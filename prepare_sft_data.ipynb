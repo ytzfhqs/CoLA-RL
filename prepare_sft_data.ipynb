{
 "cells": [
  {
   "cell_type": "code",
   "execution_count": null,
   "id": "9ec66d94-48f1-4859-ae68-8800d945d36c",
   "metadata": {},
   "outputs": [],
   "source": [
    "import pandas as pd\n",
    "import random\n",
    "from utils import save_json\n",
    "\n",
    "random.seed(42)"
   ]
  },
  {
   "cell_type": "code",
   "execution_count": 9,
   "id": "c4d3b8c7-67d3-40db-a9d2-8aea3117f56d",
   "metadata": {},
   "outputs": [],
   "source": [
    "train_data = pd.read_csv(\n",
    "    \"cola_data/in_domain_train.tsv\",\n",
    "    sep=\"\\t\",\n",
    "    header=None,\n",
    "    names=[\"source\", \"label\", \"first_label\", \"text\"],\n",
    ")\n",
    "test_data = pd.read_csv(\n",
    "    \"cola_data/in_domain_dev.tsv\",\n",
    "    sep=\"\\t\",\n",
    "    header=None,\n",
    "    names=[\"source\", \"label\", \"first_label\", \"text\"],\n",
    ")\n",
    "train_data = train_data[[\"text\", \"label\"]]\n",
    "test_data = test_data[[\"text\", \"label\"]]"
   ]
  },
  {
   "cell_type": "code",
   "execution_count": 10,
   "id": "612afb25",
   "metadata": {},
   "outputs": [],
   "source": [
    "prompt = \"\"\"\n",
    "Decide whether the following sentence is grammatically acceptable or not. If it is grammatically correct, answer \"acceptable\". If not, answer \"unacceptable\". Only output \"acceptable\" or \"unacceptable\", and do not output any other information.\n",
    "\n",
    "Sentence: {sentence}\n",
    "\n",
    "Your answer:\n",
    "\"\"\""
   ]
  },
  {
   "cell_type": "code",
   "execution_count": 11,
   "id": "6481bf79",
   "metadata": {},
   "outputs": [
    {
     "name": "stdout",
     "output_type": "stream",
     "text": [
      "(8551, 2) (527, 2)\n"
     ]
    }
   ],
   "source": [
    "# 避免推理能力丧失\n",
    "train_data[\"instruction\"] = train_data[\"text\"].apply(\n",
    "    lambda x: prompt.format(sentence=x).strip() + \"/no_think\"\n",
    ")\n",
    "train_data[\"output\"] = train_data[\"label\"].apply(\n",
    "    lambda x: \"<think>\\n\\n</think>\\n\\nunacceptable\"\n",
    "    if x == 0\n",
    "    else \"<think>\\n\\n</think>\\n\\nacceptable\"\n",
    ")\n",
    "train_data = train_data[[\"instruction\", \"output\"]]\n",
    "\n",
    "test_data[\"instruction\"] = test_data[\"text\"].apply(\n",
    "    lambda x: prompt.format(sentence=x).strip() + \"/no_think\"\n",
    ")\n",
    "test_data[\"output\"] = test_data[\"label\"].apply(\n",
    "    lambda x: \"<think>\\n\\n</think>\\n\\nunacceptable\"\n",
    "    if x == 0\n",
    "    else \"<think>\\n\\n</think>\\n\\nacceptable\"\n",
    ")\n",
    "test_data = test_data[[\"instruction\", \"output\"]]\n",
    "\n",
    "print(train_data.shape, test_data.shape)"
   ]
  },
  {
   "cell_type": "code",
   "execution_count": 12,
   "id": "fd1dfb2e-a14e-4d16-b161-4e76788c7078",
   "metadata": {},
   "outputs": [
    {
     "name": "stdout",
     "output_type": "stream",
     "text": [
      "{'instruction': 'Decide whether the following sentence is grammatically acceptable or not. If it is grammatically correct, answer \"acceptable\". If not, answer \"unacceptable\". Only output \"acceptable\" or \"unacceptable\", and do not output any other information.\\n\\nSentence: Our friends won\\'t buy this analysis, let alone the next one we propose.\\n\\nYour answer:/no_think', 'output': '<think>\\n\\n</think>\\n\\nacceptable'}\n"
     ]
    }
   ],
   "source": [
    "train_data = train_data.to_dict(orient=\"records\")\n",
    "test_data = test_data.to_dict(orient=\"records\")\n",
    "\n",
    "print(train_data[0])"
   ]
  },
  {
   "cell_type": "code",
   "execution_count": 13,
   "id": "a9990a79",
   "metadata": {},
   "outputs": [],
   "source": [
    "save_json(\"cola_train.json\", train_data)\n",
    "save_json(\"cola_test.json\", test_data)"
   ]
  }
 ],
 "metadata": {
  "kernelspec": {
   "display_name": "hqs",
   "language": "python",
   "name": "python3"
  },
  "language_info": {
   "codemirror_mode": {
    "name": "ipython",
    "version": 3
   },
   "file_extension": ".py",
   "mimetype": "text/x-python",
   "name": "python",
   "nbconvert_exporter": "python",
   "pygments_lexer": "ipython3",
   "version": "3.12.9"
  }
 },
 "nbformat": 4,
 "nbformat_minor": 5
}
